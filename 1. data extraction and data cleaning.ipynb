{
 "cells": [
  {
   "cell_type": "code",
   "execution_count": 292,
   "id": "e1826254-330a-46c3-a727-84d280f71d8a",
   "metadata": {},
   "outputs": [],
   "source": [
    "import pandas as pd\n",
    "import numpy as np\n",
    "import re\n",
    "from sklearn.preprocessing import LabelEncoder"
   ]
  },
  {
   "cell_type": "code",
   "execution_count": 293,
   "id": "84facfe5-f020-472d-b31f-74f2a1a8c549",
   "metadata": {},
   "outputs": [],
   "source": [
    "# Load raw CSV\n",
    "df = pd.read_csv(\"ahmedabad.csv\")  # update filename if different\n"
   ]
  },
  {
   "cell_type": "code",
   "execution_count": 294,
   "id": "e4140f3b-a696-400e-8598-b49ff661a18c",
   "metadata": {},
   "outputs": [],
   "source": [
    "def parse_currency(x):\n",
    "    if pd.isnull(x):\n",
    "        return np.nan\n",
    "    if isinstance(x, (int,float,np.number)):\n",
    "        try:\n",
    "            return float(x)\n",
    "        except:\n",
    "            return np.nan\n",
    "    s = str(x).strip()\n",
    "    s = s.replace('₹','').replace('Rs.','').replace('Rs','').replace(',','').strip()\n",
    "    m_cr = re.search(r'([0-9]*\\.?[0-9]+)\\s*(cr|Cr|CR|crore|Crore)', s)\n",
    "    if m_cr:\n",
    "        val = float(m_cr.group(1))\n",
    "        return val * 1e7\n",
    "    m_lac = re.search(r'([0-9]*\\.?[0-9]+)\\s*(l|L|lac|Lac|lakh|Lakh)', s)\n",
    "    if m_lac:\n",
    "        val = float(m_lac.group(1))\n",
    "        return val * 1e5\n",
    "    m_k = re.search(r'([0-9]*\\.?[0-9]+)\\s*(k|K)', s)\n",
    "    if m_k:\n",
    "        val = float(m_k.group(1))\n",
    "        return val * 1e3\n",
    "    m_num = re.search(r'[-+]?[0-9]*\\,?[0-9]+(?:\\.[0-9]+)?', s.replace(',',''))\n",
    "    if m_num:\n",
    "        try:\n",
    "            return float(m_num.group(0))\n",
    "        except:\n",
    "            return np.nan\n",
    "    return np.nan"
   ]
  },
  {
   "cell_type": "code",
   "execution_count": 295,
   "id": "026635bc-e3b3-4682-933d-2a23f12e3b1c",
   "metadata": {},
   "outputs": [],
   "source": [
    "#clearning price and price_sqft\n",
    "df['price'] = df['price'].apply(parse_currency)\n",
    "df['price_sqft'] = df['price_sqft'].apply(parse_currency)"
   ]
  },
  {
   "cell_type": "code",
   "execution_count": 296,
   "id": "36255898-cb02-4bad-8b2d-1780dc74f1bd",
   "metadata": {},
   "outputs": [],
   "source": [
    "def area_to_sqft(x):\n",
    "    if pd.isna(x):\n",
    "        return np.nan\n",
    "    x = str(x).lower().strip()\n",
    "    # extract numeric value\n",
    "    match = re.search(r'\\d+(\\.\\d+)?', x)\n",
    "    if not match:\n",
    "        return np.nan\n",
    "    try:\n",
    "        value = float(match.group())\n",
    "    except ValueError:\n",
    "        return np.nan\n",
    "    if 'sqyrd' in x:\n",
    "        return value * 9  # 1 sqyrd = 9 sqft\n",
    "    elif 'sqft' in x:\n",
    "        return value\n",
    "    else:\n",
    "        return value"
   ]
  },
  {
   "cell_type": "code",
   "execution_count": 297,
   "id": "235b06cd-ed53-4faf-9ff8-59a73c844b3a",
   "metadata": {},
   "outputs": [],
   "source": [
    "df['value_area_sqft'] = df['value_area'].apply(area_to_sqft)"
   ]
  },
  {
   "cell_type": "code",
   "execution_count": 298,
   "id": "fe230808-c26d-4607-b138-3360a778abe4",
   "metadata": {},
   "outputs": [],
   "source": [
    "current_year = 2025  # adjust if needed\n",
    "\n",
    "def extract_possession_year(status):\n",
    "    \"\"\"Extract numeric possession year from status.\"\"\"\n",
    "    if pd.isna(status):\n",
    "        return np.nan\n",
    "    status = str(status)\n",
    "    match = re.search(r\"'(\\d{2})\", status)\n",
    "    if match:\n",
    "        year = int(match.group(1))\n",
    "        return 2000 + year  # convert '26 → 2026\n",
    "    elif \"Ready to Move\" in status:\n",
    "        return current_year\n",
    "    else:\n",
    "        return np.nan"
   ]
  },
  {
   "cell_type": "code",
   "execution_count": 299,
   "id": "262cf319-d42a-4fa8-b48e-1f87f16a67a0",
   "metadata": {},
   "outputs": [],
   "source": [
    "# Apply extraction\n",
    "df['possession_year'] = df['status'].apply(extract_possession_year)\n",
    "\n",
    "# Binary: ready to move\n",
    "df['ready_to_move'] = df['status'].apply(lambda x: 1 if 'Ready' in str(x) else 0)\n",
    "\n",
    "# Years until possession\n",
    "df['years_until_possession'] = df['possession_year'] - current_year\n",
    "\n"
   ]
  },
  {
   "cell_type": "code",
   "execution_count": 300,
   "id": "06cc2554-e20f-4c8e-9104-175e887db4a0",
   "metadata": {},
   "outputs": [],
   "source": [
    "def extract_bhk(title):\n",
    "    title = str(title).lower()\n",
    "    if 'studio' in title:\n",
    "        return 'Studio'\n",
    "    match = re.search(r'(\\d+)\\s*bhk', title)\n",
    "    if match:\n",
    "        return int(match.group(1))\n",
    "    return None\n",
    "\n",
    "df['bhk'] = df['Title'].apply(extract_bhk)\n",
    "\n",
    "\n",
    "def extract_project(title):\n",
    "    title = str(title)\n",
    "    match = re.search(r'in (.*?),', title)\n",
    "    if match:\n",
    "        return match.group(1).strip()\n",
    "    return None\n",
    "\n",
    "df['project_name'] = df['Title'].apply(extract_project)\n",
    "\n",
    "\n",
    "\n",
    "def extract_locality(title):\n",
    "    title = str(title)\n",
    "    parts = title.split(',')\n",
    "    if len(parts) >= 2:\n",
    "        return parts[-1].strip()  # last part = locality\n",
    "    return None\n",
    "\n",
    "df['locality'] = df['Title'].apply(extract_locality)\n",
    "\n",
    "\n",
    "\n",
    "def extract_floor_type(title):\n",
    "    title = str(title).lower()\n",
    "    if 'basement' in title:\n",
    "        return 'Basement'\n",
    "    if 'builder floor' in title:\n",
    "        return 'Builder Floor'\n",
    "    return 'Regular'\n",
    "\n",
    "df['floor_type'] = df['Title'].apply(extract_floor_type)\n"
   ]
  },
  {
   "cell_type": "code",
   "execution_count": 301,
   "id": "2b8fd3f9-27f6-4a30-9301-d0eeda065199",
   "metadata": {},
   "outputs": [],
   "source": [
    "def extract_floor_info(floor):\n",
    "    if pd.isna(floor):\n",
    "        return pd.Series([np.nan, np.nan])\n",
    "    \n",
    "    floor = str(floor).lower().strip()\n",
    "    \n",
    "    # Check for \"ground\"\n",
    "    floor = floor.replace(\"ground\", \"0\")\n",
    "    \n",
    "    # Match pattern \"X out of Y\"\n",
    "    match = re.match(r'(\\d+)\\s*out of\\s*(\\d+)', floor)\n",
    "    if match:\n",
    "        floor_num = int(match.group(1))\n",
    "        total_floors = int(match.group(2))\n",
    "        return pd.Series([floor_num, total_floors])\n",
    "    \n",
    "    # If not a floor, return NaN\n",
    "    return pd.Series([np.nan, np.nan])\n",
    "\n",
    "df[['floor_num', 'total_floors']] = df['floor'].apply(extract_floor_info)\n",
    "\n",
    "\n",
    "\n",
    "def extract_transaction(floor):\n",
    "    if pd.isna(floor):\n",
    "        return np.nan\n",
    "    floor = str(floor).lower()\n",
    "    if 'new property' in floor:\n",
    "        return 'New Property'\n",
    "    elif 'resale' in floor:\n",
    "        return 'Resale'\n",
    "    else:\n",
    "        return 'Other'\n",
    "\n",
    "df['transaction'] = df['floor'].apply(extract_transaction)\n",
    "\n"
   ]
  },
  {
   "cell_type": "code",
   "execution_count": 302,
   "id": "f4475b05-0294-4bba-9b3e-3f9a4b320032",
   "metadata": {},
   "outputs": [],
   "source": [
    "df['transaction'] = df['transaction'].apply(lambda x: str(x).strip())\n",
    "df['transaction'] = df['transaction'].replace({'Unfurnished': 'Unknown'})  # fix misaligned rows\n",
    "df['transaction_code'] = df['transaction'].astype('category').cat.codes  # numeric encoding"
   ]
  },
  {
   "cell_type": "code",
   "execution_count": 303,
   "id": "c477e393-cacd-47f3-949a-9d8697e347d1",
   "metadata": {},
   "outputs": [],
   "source": [
    "df['furnishing'] = df['furnishing'].apply(lambda x: str(x).strip())\n",
    "df['furnishing_code'] = df['furnishing'].astype('category').cat.codes"
   ]
  },
  {
   "cell_type": "code",
   "execution_count": 304,
   "id": "4a022fb9-5162-46e8-ba92-33794a8eac09",
   "metadata": {},
   "outputs": [],
   "source": [
    "# Step 1: Clean facing column\n",
    "df[['facing_dir', 'extra_features']] = df['facing'].apply(lambda x: pd.Series(clean_facing(x)))\n",
    "\n",
    "# Step 2: Map directions to numeric angles\n",
    "direction_map = {\n",
    "    \"North\": 0,\n",
    "    \"North-East\": 45,\n",
    "    \"East\": 90,\n",
    "    \"South-East\": 135,\n",
    "    \"South\": 180,\n",
    "    \"South-West\": 225,\n",
    "    \"West\": 270,\n",
    "    \"North-West\": 315\n",
    "}\n",
    "df['facing_angle'] = df['facing_dir'].map(direction_map).fillna(-1)  # -1 for unknown\n",
    "\n",
    "# Step 3: One-hot encode directions\n",
    "for d in direction_map.keys():\n",
    "    df[f'facing_{d}'] = df['facing_dir'].apply(lambda x: 1 if x == d else 0)\n",
    "\n",
    "# Step 4: One-hot encode extra features\n",
    "for feat in ['Garden/Park', 'Pool', 'Main Road']:\n",
    "    df[f'extra_{feat}'] = df['extra_features'].apply(lambda x: 1 if feat in x else 0)\n"
   ]
  },
  {
   "cell_type": "code",
   "execution_count": 305,
   "id": "f55d3d00-a720-4382-9a5d-580b95a6bf2a",
   "metadata": {},
   "outputs": [
    {
     "name": "stderr",
     "output_type": "stream",
     "text": [
      "C:\\Users\\LEGION\\AppData\\Local\\Temp\\ipykernel_25460\\122503190.py:1: FutureWarning: Downcasting behavior in `replace` is deprecated and will be removed in a future version. To retain the old behavior, explicitly call `result.infer_objects(copy=False)`. To opt-in to the future behavior, set `pd.set_option('future.no_silent_downcasting', True)`\n",
      "  df['bhk'] = df['bhk'].replace({'Studio': 1}).astype(float)\n"
     ]
    }
   ],
   "source": [
    "df['bhk'] = df['bhk'].replace({'Studio': 1}).astype(float)\n",
    "\n",
    "\n",
    "\n",
    "le_type_area = LabelEncoder()\n",
    "df['type_area'] = le_type_area.fit_transform(df['type_area'].fillna('Unknown'))\n",
    "\n",
    "for col in ['project_name', 'locality', 'floor_type']:\n",
    "    df[col] = df[col].fillna('Unknown')\n",
    "    le = LabelEncoder()\n",
    "    df[col] = le.fit_transform(df[col])\n"
   ]
  },
  {
   "cell_type": "code",
   "execution_count": 306,
   "id": "7d9b21ee-6c6b-4f2d-b9b2-23d79baeef90",
   "metadata": {},
   "outputs": [],
   "source": [
    "dfdrop_cols = [\n",
    "    'Unnamed: 0', 'facing', 'facing_dir', 'extra_features', \n",
    "    'Title', 'value_area', 'floor', 'furnishing', 'transaction', 'status', 'description', \n",
    "]\n",
    "\n",
    "df= df.drop(columns=drop_cols)\n"
   ]
  },
  {
   "cell_type": "code",
   "execution_count": 307,
   "id": "e31e18c1-82f8-4b19-acef-204fc08e6ec9",
   "metadata": {},
   "outputs": [],
   "source": [
    "### filling or removing the empty ###"
   ]
  },
  {
   "cell_type": "code",
   "execution_count": 308,
   "id": "7ee9cdeb-b62f-42c5-8fc9-ff3f24159d9f",
   "metadata": {},
   "outputs": [],
   "source": [
    "df = df.dropna(subset=['price', 'price_sqft'])\n",
    "df = df[(df['price'] > 0) & (df['price_sqft'] > 0)]\n"
   ]
  },
  {
   "cell_type": "code",
   "execution_count": 309,
   "id": "01a2f7fc-16a9-451e-b8af-d04dafcd1e72",
   "metadata": {},
   "outputs": [],
   "source": [
    "for col in ['floor_num', 'total_floors', 'price_sqft']:\n",
    "    df[col] = df[col].fillna(df[col].median())\n"
   ]
  },
  {
   "cell_type": "code",
   "execution_count": 310,
   "id": "78f1f5fc-d93a-47f0-8671-4a79ff4bfe2b",
   "metadata": {},
   "outputs": [],
   "source": [
    "# Fill numeric columns with median\n",
    "df['possession_year'] = df['possession_year'].fillna(df['possession_year'].median())\n",
    "df['years_until_possession'] = df['years_until_possession'].fillna(df['years_until_possession'].median())\n",
    "df['bhk'] = df['bhk'].replace('Studio', 1)  # convert 'Studio' to 1\n",
    "df['bhk'] = df['bhk'].fillna(df['bhk'].median())\n"
   ]
  },
  {
   "cell_type": "code",
   "execution_count": 313,
   "id": "17064db7-b004-4d62-b7af-e332a0a7cf2b",
   "metadata": {},
   "outputs": [
    {
     "data": {
      "text/plain": [
       "Index(['type_area', 'price', 'price_sqft', 'value_area_sqft',\n",
       "       'possession_year', 'ready_to_move', 'years_until_possession', 'bhk',\n",
       "       'project_name', 'locality', 'floor_type', 'floor_num', 'total_floors',\n",
       "       'transaction_code', 'furnishing_code', 'facing_angle', 'facing_North',\n",
       "       'facing_North-East', 'facing_East', 'facing_South-East', 'facing_South',\n",
       "       'facing_South-West', 'facing_West', 'facing_North-West',\n",
       "       'extra_Garden/Park', 'extra_Pool', 'extra_Main Road'],\n",
       "      dtype='object')"
      ]
     },
     "execution_count": 313,
     "metadata": {},
     "output_type": "execute_result"
    }
   ],
   "source": [
    "df.columns"
   ]
  },
  {
   "cell_type": "code",
   "execution_count": 314,
   "id": "616c90af-dcb9-4570-9e51-b29367134181",
   "metadata": {},
   "outputs": [],
   "source": [
    "df.to_csv('cleaned_data.csv', index=False)"
   ]
  },
  {
   "cell_type": "code",
   "execution_count": null,
   "id": "228af2b4-edb2-4d34-88b3-c9e13640525a",
   "metadata": {},
   "outputs": [],
   "source": []
  }
 ],
 "metadata": {
  "kernelspec": {
   "display_name": "Python 3 (ipykernel)",
   "language": "python",
   "name": "python3"
  },
  "language_info": {
   "codemirror_mode": {
    "name": "ipython",
    "version": 3
   },
   "file_extension": ".py",
   "mimetype": "text/x-python",
   "name": "python",
   "nbconvert_exporter": "python",
   "pygments_lexer": "ipython3",
   "version": "3.13.5"
  }
 },
 "nbformat": 4,
 "nbformat_minor": 5
}
